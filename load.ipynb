{
 "cells": [
  {
   "cell_type": "code",
   "execution_count": 1,
   "metadata": {},
   "outputs": [],
   "source": [
    "import pandas as pd"
   ]
  },
  {
   "cell_type": "code",
   "execution_count": 2,
   "metadata": {},
   "outputs": [],
   "source": [
    "dim_customer = pd.read_csv('Target/DimCustomer.csv')\n",
    "dim_city = pd.read_csv('Target/DimCity.csv')\n",
    "dim_date = pd.read_csv('Target/DimDate.csv')\n",
    "dim_order_status = pd.read_csv('Target/DimOrderStatus.csv')\n",
    "dim_return_reason = pd.read_csv('Target/DimReturnReason.csv')\n",
    "dim_sales_agent = pd.read_csv('Target/DimSalesAgent.csv')\n",
    "dim_state = pd.read_csv('Target/DimState.csv')\n",
    "dim_product_catalog = pd.read_csv('Target/DimProduct.csv')\n",
    "fact_order = pd.read_csv('Target/FactOrder.csv')\n",
    "\n",
    "# transform fact_order column dtype to int\n"
   ]
  },
  {
   "cell_type": "code",
   "execution_count": 3,
   "metadata": {},
   "outputs": [
    {
     "data": {
      "text/plain": [
       "array(['Dont have', 'Defective', 'Late Delivery', 'Quality Issue',\n",
       "       'Received Wrong Item', 'Unsatisfied'], dtype=object)"
      ]
     },
     "execution_count": 3,
     "metadata": {},
     "output_type": "execute_result"
    }
   ],
   "source": [
    "dim_return_reason['ReturnReasonName'].unique()"
   ]
  },
  {
   "cell_type": "code",
   "execution_count": 4,
   "metadata": {},
   "outputs": [
    {
     "name": "stdout",
     "output_type": "stream",
     "text": [
      "Driver={ODBC Driver 18 for SQL Server};Server=tcp:future-retail.database.windows.net,1433;Database=FutureRetailDW;Uid=thinhnd;Pwd=DfL6iFnuCm#@wwE;Encrypt=yes;TrustServerCertificate=no;Connection Timeout=30;\n"
     ]
    },
    {
     "name": "stderr",
     "output_type": "stream",
     "text": [
      "2024-06-11 11:53:49,370 - INFO - Connected to MSSQL database\n"
     ]
    },
    {
     "name": "stdout",
     "output_type": "stream",
     "text": [
      "<pyodbc.Cursor object at 0x0000022D19A3B4B0>\n"
     ]
    },
    {
     "name": "stderr",
     "output_type": "stream",
     "text": [
      "2024-06-11 11:53:53,735 - INFO - Connected to MSSQL database\n"
     ]
    },
    {
     "name": "stdout",
     "output_type": "stream",
     "text": [
      "Driver={ODBC Driver 18 for SQL Server};Server=tcp:future-retail.database.windows.net,1433;Database=FutureRetailDW;Uid=thinhnd;Pwd=DfL6iFnuCm#@wwE;Encrypt=yes;TrustServerCertificate=no;Connection Timeout=30;\n"
     ]
    }
   ],
   "source": [
    "from load import load_dim_city_to_mssql\n",
    "from load import load_dim_customer_to_mssql\n",
    "load_dim_city_to_mssql(dim_city)\n",
    "load_dim_customer_to_mssql(dim_customer)"
   ]
  },
  {
   "cell_type": "code",
   "execution_count": 5,
   "metadata": {},
   "outputs": [
    {
     "name": "stderr",
     "output_type": "stream",
     "text": [
      "2024-06-11 11:56:54,186 - INFO - Connected to MSSQL database\n"
     ]
    },
    {
     "name": "stdout",
     "output_type": "stream",
     "text": [
      "Driver={ODBC Driver 18 for SQL Server};Server=tcp:future-retail.database.windows.net,1433;Database=FutureRetailDW;Uid=thinhnd;Pwd=DfL6iFnuCm#@wwE;Encrypt=yes;TrustServerCertificate=no;Connection Timeout=30;\n"
     ]
    },
    {
     "name": "stderr",
     "output_type": "stream",
     "text": [
      "2024-06-11 11:57:08,577 - INFO - Connected to MSSQL database\n"
     ]
    },
    {
     "name": "stdout",
     "output_type": "stream",
     "text": [
      "Driver={ODBC Driver 18 for SQL Server};Server=tcp:future-retail.database.windows.net,1433;Database=FutureRetailDW;Uid=thinhnd;Pwd=DfL6iFnuCm#@wwE;Encrypt=yes;TrustServerCertificate=no;Connection Timeout=30;\n"
     ]
    }
   ],
   "source": [
    "from load import load_dim_date_to_mssql, load_dim_order_status_to_mssql\n",
    "load_dim_date_to_mssql(dim_date)\n",
    "load_dim_order_status_to_mssql(dim_order_status)"
   ]
  },
  {
   "cell_type": "code",
   "execution_count": 6,
   "metadata": {},
   "outputs": [
    {
     "name": "stderr",
     "output_type": "stream",
     "text": [
      "2024-06-11 11:57:25,134 - INFO - Connected to MSSQL database\n"
     ]
    },
    {
     "name": "stdout",
     "output_type": "stream",
     "text": [
      "Driver={ODBC Driver 18 for SQL Server};Server=tcp:future-retail.database.windows.net,1433;Database=FutureRetailDW;Uid=thinhnd;Pwd=DfL6iFnuCm#@wwE;Encrypt=yes;TrustServerCertificate=no;Connection Timeout=30;\n"
     ]
    },
    {
     "name": "stderr",
     "output_type": "stream",
     "text": [
      "2024-06-11 11:57:26,437 - INFO - Connected to MSSQL database\n"
     ]
    },
    {
     "name": "stdout",
     "output_type": "stream",
     "text": [
      "Driver={ODBC Driver 18 for SQL Server};Server=tcp:future-retail.database.windows.net,1433;Database=FutureRetailDW;Uid=thinhnd;Pwd=DfL6iFnuCm#@wwE;Encrypt=yes;TrustServerCertificate=no;Connection Timeout=30;\n"
     ]
    }
   ],
   "source": [
    "from load import load_dim_return_reason_to_mssql, load_dim_sale_agents_to_mssql\n",
    "load_dim_return_reason_to_mssql(dim_return_reason)\n",
    "load_dim_sale_agents_to_mssql(dim_sales_agent)"
   ]
  },
  {
   "cell_type": "code",
   "execution_count": 7,
   "metadata": {},
   "outputs": [
    {
     "name": "stderr",
     "output_type": "stream",
     "text": [
      "2024-06-11 11:57:43,399 - INFO - Connected to MSSQL database\n"
     ]
    },
    {
     "name": "stdout",
     "output_type": "stream",
     "text": [
      "Driver={ODBC Driver 18 for SQL Server};Server=tcp:future-retail.database.windows.net,1433;Database=FutureRetailDW;Uid=thinhnd;Pwd=DfL6iFnuCm#@wwE;Encrypt=yes;TrustServerCertificate=no;Connection Timeout=30;\n"
     ]
    },
    {
     "name": "stderr",
     "output_type": "stream",
     "text": [
      "2024-06-11 11:57:44,680 - INFO - Connected to MSSQL database\n"
     ]
    },
    {
     "name": "stdout",
     "output_type": "stream",
     "text": [
      "Driver={ODBC Driver 18 for SQL Server};Server=tcp:future-retail.database.windows.net,1433;Database=FutureRetailDW;Uid=thinhnd;Pwd=DfL6iFnuCm#@wwE;Encrypt=yes;TrustServerCertificate=no;Connection Timeout=30;\n"
     ]
    }
   ],
   "source": [
    "from load import load_dim_state_to_mssql, load_dim_product_catalog_to_mssql\n",
    "load_dim_state_to_mssql(dim_state)\n",
    "load_dim_product_catalog_to_mssql(dim_product_catalog)"
   ]
  },
  {
   "cell_type": "code",
   "execution_count": 8,
   "metadata": {},
   "outputs": [
    {
     "name": "stderr",
     "output_type": "stream",
     "text": [
      "2024-06-11 11:57:55,568 - INFO - Connected to MSSQL database\n"
     ]
    },
    {
     "name": "stdout",
     "output_type": "stream",
     "text": [
      "Driver={ODBC Driver 18 for SQL Server};Server=tcp:future-retail.database.windows.net,1433;Database=FutureRetailDW;Uid=thinhnd;Pwd=DfL6iFnuCm#@wwE;Encrypt=yes;TrustServerCertificate=no;Connection Timeout=30;\n"
     ]
    }
   ],
   "source": [
    "from load import load_fact_order_to_mssql\n",
    "load_fact_order_to_mssql(fact_order)"
   ]
  }
 ],
 "metadata": {
  "kernelspec": {
   "display_name": "venv",
   "language": "python",
   "name": "python3"
  },
  "language_info": {
   "codemirror_mode": {
    "name": "ipython",
    "version": 3
   },
   "file_extension": ".py",
   "mimetype": "text/x-python",
   "name": "python",
   "nbconvert_exporter": "python",
   "pygments_lexer": "ipython3",
   "version": "3.9.6"
  }
 },
 "nbformat": 4,
 "nbformat_minor": 2
}
